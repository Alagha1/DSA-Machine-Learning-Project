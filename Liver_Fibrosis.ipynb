{
  "nbformat": 4,
  "nbformat_minor": 0,
  "metadata": {
    "colab": {
      "provenance": [],
      "authorship_tag": "ABX9TyOGph4Z8HS48OYQfmu1ICLq",
      "include_colab_link": true
    },
    "kernelspec": {
      "name": "python3",
      "display_name": "Python 3"
    },
    "language_info": {
      "name": "python"
    }
  },
  "cells": [
    {
      "cell_type": "markdown",
      "metadata": {
        "id": "view-in-github",
        "colab_type": "text"
      },
      "source": [
        "<a href=\"https://colab.research.google.com/github/Alagha1/DSA-Machine-Learning-Project/blob/main/Liver_Fibrosis.ipynb\" target=\"_parent\"><img src=\"https://colab.research.google.com/assets/colab-badge.svg\" alt=\"Open In Colab\"/></a>"
      ]
    },
    {
      "cell_type": "code",
      "source": [
        "from google.colab import files\n",
        "HCV = files.upload()"
      ],
      "metadata": {
        "colab": {
          "base_uri": "https://localhost:8080/",
          "height": 74
        },
        "id": "tmcVCQxmvUhU",
        "outputId": "9f89eee2-f364-4a66-b37d-e93b3d994f35"
      },
      "execution_count": 3,
      "outputs": [
        {
          "output_type": "display_data",
          "data": {
            "text/plain": [
              "<IPython.core.display.HTML object>"
            ],
            "text/html": [
              "\n",
              "     <input type=\"file\" id=\"files-ef69a6b9-6ca3-4e84-b310-bb7f36eb2278\" name=\"files[]\" multiple disabled\n",
              "        style=\"border:none\" />\n",
              "     <output id=\"result-ef69a6b9-6ca3-4e84-b310-bb7f36eb2278\">\n",
              "      Upload widget is only available when the cell has been executed in the\n",
              "      current browser session. Please rerun this cell to enable.\n",
              "      </output>\n",
              "      <script>// Copyright 2017 Google LLC\n",
              "//\n",
              "// Licensed under the Apache License, Version 2.0 (the \"License\");\n",
              "// you may not use this file except in compliance with the License.\n",
              "// You may obtain a copy of the License at\n",
              "//\n",
              "//      http://www.apache.org/licenses/LICENSE-2.0\n",
              "//\n",
              "// Unless required by applicable law or agreed to in writing, software\n",
              "// distributed under the License is distributed on an \"AS IS\" BASIS,\n",
              "// WITHOUT WARRANTIES OR CONDITIONS OF ANY KIND, either express or implied.\n",
              "// See the License for the specific language governing permissions and\n",
              "// limitations under the License.\n",
              "\n",
              "/**\n",
              " * @fileoverview Helpers for google.colab Python module.\n",
              " */\n",
              "(function(scope) {\n",
              "function span(text, styleAttributes = {}) {\n",
              "  const element = document.createElement('span');\n",
              "  element.textContent = text;\n",
              "  for (const key of Object.keys(styleAttributes)) {\n",
              "    element.style[key] = styleAttributes[key];\n",
              "  }\n",
              "  return element;\n",
              "}\n",
              "\n",
              "// Max number of bytes which will be uploaded at a time.\n",
              "const MAX_PAYLOAD_SIZE = 100 * 1024;\n",
              "\n",
              "function _uploadFiles(inputId, outputId) {\n",
              "  const steps = uploadFilesStep(inputId, outputId);\n",
              "  const outputElement = document.getElementById(outputId);\n",
              "  // Cache steps on the outputElement to make it available for the next call\n",
              "  // to uploadFilesContinue from Python.\n",
              "  outputElement.steps = steps;\n",
              "\n",
              "  return _uploadFilesContinue(outputId);\n",
              "}\n",
              "\n",
              "// This is roughly an async generator (not supported in the browser yet),\n",
              "// where there are multiple asynchronous steps and the Python side is going\n",
              "// to poll for completion of each step.\n",
              "// This uses a Promise to block the python side on completion of each step,\n",
              "// then passes the result of the previous step as the input to the next step.\n",
              "function _uploadFilesContinue(outputId) {\n",
              "  const outputElement = document.getElementById(outputId);\n",
              "  const steps = outputElement.steps;\n",
              "\n",
              "  const next = steps.next(outputElement.lastPromiseValue);\n",
              "  return Promise.resolve(next.value.promise).then((value) => {\n",
              "    // Cache the last promise value to make it available to the next\n",
              "    // step of the generator.\n",
              "    outputElement.lastPromiseValue = value;\n",
              "    return next.value.response;\n",
              "  });\n",
              "}\n",
              "\n",
              "/**\n",
              " * Generator function which is called between each async step of the upload\n",
              " * process.\n",
              " * @param {string} inputId Element ID of the input file picker element.\n",
              " * @param {string} outputId Element ID of the output display.\n",
              " * @return {!Iterable<!Object>} Iterable of next steps.\n",
              " */\n",
              "function* uploadFilesStep(inputId, outputId) {\n",
              "  const inputElement = document.getElementById(inputId);\n",
              "  inputElement.disabled = false;\n",
              "\n",
              "  const outputElement = document.getElementById(outputId);\n",
              "  outputElement.innerHTML = '';\n",
              "\n",
              "  const pickedPromise = new Promise((resolve) => {\n",
              "    inputElement.addEventListener('change', (e) => {\n",
              "      resolve(e.target.files);\n",
              "    });\n",
              "  });\n",
              "\n",
              "  const cancel = document.createElement('button');\n",
              "  inputElement.parentElement.appendChild(cancel);\n",
              "  cancel.textContent = 'Cancel upload';\n",
              "  const cancelPromise = new Promise((resolve) => {\n",
              "    cancel.onclick = () => {\n",
              "      resolve(null);\n",
              "    };\n",
              "  });\n",
              "\n",
              "  // Wait for the user to pick the files.\n",
              "  const files = yield {\n",
              "    promise: Promise.race([pickedPromise, cancelPromise]),\n",
              "    response: {\n",
              "      action: 'starting',\n",
              "    }\n",
              "  };\n",
              "\n",
              "  cancel.remove();\n",
              "\n",
              "  // Disable the input element since further picks are not allowed.\n",
              "  inputElement.disabled = true;\n",
              "\n",
              "  if (!files) {\n",
              "    return {\n",
              "      response: {\n",
              "        action: 'complete',\n",
              "      }\n",
              "    };\n",
              "  }\n",
              "\n",
              "  for (const file of files) {\n",
              "    const li = document.createElement('li');\n",
              "    li.append(span(file.name, {fontWeight: 'bold'}));\n",
              "    li.append(span(\n",
              "        `(${file.type || 'n/a'}) - ${file.size} bytes, ` +\n",
              "        `last modified: ${\n",
              "            file.lastModifiedDate ? file.lastModifiedDate.toLocaleDateString() :\n",
              "                                    'n/a'} - `));\n",
              "    const percent = span('0% done');\n",
              "    li.appendChild(percent);\n",
              "\n",
              "    outputElement.appendChild(li);\n",
              "\n",
              "    const fileDataPromise = new Promise((resolve) => {\n",
              "      const reader = new FileReader();\n",
              "      reader.onload = (e) => {\n",
              "        resolve(e.target.result);\n",
              "      };\n",
              "      reader.readAsArrayBuffer(file);\n",
              "    });\n",
              "    // Wait for the data to be ready.\n",
              "    let fileData = yield {\n",
              "      promise: fileDataPromise,\n",
              "      response: {\n",
              "        action: 'continue',\n",
              "      }\n",
              "    };\n",
              "\n",
              "    // Use a chunked sending to avoid message size limits. See b/62115660.\n",
              "    let position = 0;\n",
              "    do {\n",
              "      const length = Math.min(fileData.byteLength - position, MAX_PAYLOAD_SIZE);\n",
              "      const chunk = new Uint8Array(fileData, position, length);\n",
              "      position += length;\n",
              "\n",
              "      const base64 = btoa(String.fromCharCode.apply(null, chunk));\n",
              "      yield {\n",
              "        response: {\n",
              "          action: 'append',\n",
              "          file: file.name,\n",
              "          data: base64,\n",
              "        },\n",
              "      };\n",
              "\n",
              "      let percentDone = fileData.byteLength === 0 ?\n",
              "          100 :\n",
              "          Math.round((position / fileData.byteLength) * 100);\n",
              "      percent.textContent = `${percentDone}% done`;\n",
              "\n",
              "    } while (position < fileData.byteLength);\n",
              "  }\n",
              "\n",
              "  // All done.\n",
              "  yield {\n",
              "    response: {\n",
              "      action: 'complete',\n",
              "    }\n",
              "  };\n",
              "}\n",
              "\n",
              "scope.google = scope.google || {};\n",
              "scope.google.colab = scope.google.colab || {};\n",
              "scope.google.colab._files = {\n",
              "  _uploadFiles,\n",
              "  _uploadFilesContinue,\n",
              "};\n",
              "})(self);\n",
              "</script> "
            ]
          },
          "metadata": {}
        },
        {
          "output_type": "stream",
          "name": "stdout",
          "text": [
            "Saving HCV-Egy-Data.csv to HCV-Egy-Data.csv\n"
          ]
        }
      ]
    },
    {
      "cell_type": "code",
      "source": [
        "import pandas as pd\n",
        "pd.set_option('display.max_columns', None)\n",
        "\n",
        "Liver = pd.read_csv('HCV-Egy-Data.csv')\n",
        "\n",
        "print(Liver.head())"
      ],
      "metadata": {
        "colab": {
          "base_uri": "https://localhost:8080/"
        },
        "id": "Ays166RMwHKf",
        "outputId": "a1be0936-c611-43d9-d9e6-5c3fb1fdb1a3"
      },
      "execution_count": 4,
      "outputs": [
        {
          "output_type": "stream",
          "name": "stdout",
          "text": [
            "   Age   Gender  BMI  Fever  Nausea/Vomting  Headache   Diarrhea   \\\n",
            "0    56       1   35      2               1          1          1   \n",
            "1    46       1   29      1               2          2          1   \n",
            "2    57       1   33      2               2          2          2   \n",
            "3    49       2   33      1               2          1          2   \n",
            "4    59       1   32      1               1          2          1   \n",
            "\n",
            "   Fatigue & generalized bone ache   Jaundice   Epigastric pain     WBC  \\\n",
            "0                                 2          2                 2   7425   \n",
            "1                                 2          2                 1  12101   \n",
            "2                                 1          1                 1   4178   \n",
            "3                                 1          2                 1   6490   \n",
            "4                                 2          2                 2   3661   \n",
            "\n",
            "       RBC  HGB    Plat  AST 1  ALT 1  ALT4  ALT 12  ALT 24  ALT 36  ALT 48  \\\n",
            "0  4248807   14  112132     99     84    52     109      81       5       5   \n",
            "1  4429425   10  129367     91    123    95      75     113      57     123   \n",
            "2  4621191   12  151522    113     49    95     107     116       5       5   \n",
            "3  4794631   10  146457     43     64   109      80      88      48      77   \n",
            "4  4606375   11  187684     99    104    67      48     120      94      90   \n",
            "\n",
            "   ALT after 24 w  RNA Base   RNA 4   RNA 12  RNA EOT  RNA EF  \\\n",
            "0               5    655330  634536   288194        5       5   \n",
            "1              44     40620  538635   637056   336804   31085   \n",
            "2               5    571148  661346        5   735945  558829   \n",
            "3              33   1041941  449939   585688   744463  582301   \n",
            "4              30    660410  738756  3731527   338946  242861   \n",
            "\n",
            "   Baseline histological Grading  Baselinehistological staging  \n",
            "0                             13                             2  \n",
            "1                              4                             2  \n",
            "2                              4                             4  \n",
            "3                             10                             3  \n",
            "4                             11                             1  \n"
          ]
        }
      ]
    },
    {
      "cell_type": "code",
      "source": [
        "#Determining the number observations and features\n",
        "print('The number of observations in my data is', Liver.shape[0])\n",
        "print('The number of features in my data is', Liver.shape[1])\n",
        "\n",
        "#Checking for missing values\n",
        "print('The number of missing values in my data is', Liver.isna().sum().sum())"
      ],
      "metadata": {
        "colab": {
          "base_uri": "https://localhost:8080/"
        },
        "id": "4IQcGFOJwJVs",
        "outputId": "67f7f263-f5ca-4e54-e0d6-8e9db0ba75b0"
      },
      "execution_count": 5,
      "outputs": [
        {
          "output_type": "stream",
          "name": "stdout",
          "text": [
            "The number of observations in my data is 1385\n",
            "The number of features in my data is 29\n",
            "The number of missing values in my data is 0\n"
          ]
        }
      ]
    },
    {
      "cell_type": "code",
      "source": [
        "#Data Wrangling\n",
        "#Import libraries and packages\n",
        "from sklearn.model_selection import train_test_split\n",
        "from sklearn.metrics import roc_curve, auc, confusion_matrix, precision_score, recall_score\n",
        "from sklearn.linear_model import LogisticRegression\n",
        "from sklearn.model_selection import cross_val_score, cross_validate\n"
      ],
      "metadata": {
        "id": "IWUW9YoTwQW2"
      },
      "execution_count": 6,
      "outputs": []
    },
    {
      "cell_type": "code",
      "source": [
        "#Quantitative variables should be placed into discrete categories per the dataset authors.\n",
        "\n",
        "#Age categories: [0; 32], ]32; 37], ]37; 42],]42; 47], ]47; 52], ]52; 57],]57; 62]\n",
        "\n",
        "Liver.loc[Liver['Age '] <=32, 'Age_C'] = 0\n",
        "Liver.loc[(Liver['Age '] > 32) & (Liver['Age '] <= 37), 'Age_C'] = 1\n",
        "Liver.loc[(Liver['Age '] > 37) & (Liver['Age '] <= 42), 'Age_C'] = 2\n",
        "Liver.loc[(Liver['Age '] > 42) & (Liver['Age '] <= 47), 'Age_C'] = 3\n",
        "Liver.loc[(Liver['Age '] > 47) & (Liver['Age '] <= 52), 'Age_C'] = 4\n",
        "Liver.loc[(Liver['Age '] > 52) & (Liver['Age '] <= 57), 'Age_C'] = 5\n",
        "Liver.loc[(Liver['Age '] > 57) & (Liver['Age '] <= 62), 'Age_C'] = 6\n",
        "\n",
        "#print(pd.crosstab(Liver['Age '],Liver['Age_C'], dropna = False))\n",
        "\n",
        "#BMI categories: [0; 18:5[ [18:5; 25[, [25; 30[, [30; 35[, [35; 40[\n",
        "\n",
        "Liver.loc[Liver['BMI'] < 18.5, 'BMI_C'] = 0\n",
        "Liver.loc[(Liver['BMI'] >= 18.5) & (Liver['BMI'] < 25), 'BMI_C'] = 1\n",
        "Liver.loc[(Liver['BMI'] >= 25) & (Liver['BMI'] < 30), 'BMI_C'] = 2\n",
        "Liver.loc[(Liver['BMI'] >= 30) & (Liver['BMI'] < 35), 'BMI_C'] = 3\n",
        "Liver.loc[(Liver['BMI'] >= 35) & (Liver['BMI'] < 40), 'BMI_C'] = 4\n",
        "Liver.loc[Liver['BMI'] >= 40, 'BMI_C'] = 5\n",
        "\n",
        "#print(pd.crosstab(Liver['BMI'], Liver['BMI_C'], dropna=False))\n",
        "\n",
        "#WBC categories: [0; 4000[, [4000; 11000[, [11000; 12101]\n",
        "Liver.loc[Liver['WBC'] < 4000, 'WBC_C'] = 0\n",
        "Liver.loc[(Liver['WBC'] >= 4000) & (Liver['WBC'] < 11000), 'WBC_C'] = 1\n",
        "Liver.loc[(Liver['WBC'] >= 11000) & (Liver['WBC'] <= 12101), 'WBC_C'] = 2\n",
        "\n",
        "#print(pd.crosstab(Liver['WBC'], Liver['WBC_C'], dropna = False))\n",
        "\n",
        "#RBC categories: 0; 3000000[, [3000000; 5000000[,[5000000; 5018451]\n",
        "Liver.loc[Liver['RBC'] < 3000000, 'RBC_C'] = 0\n",
        "Liver.loc[(Liver['RBC'] >= 3000000) & (Liver['RBC'] < 5000000), 'RBC_C'] = 1\n",
        "Liver.loc[(Liver['RBC'] >= 5000000) & (Liver['RBC'] <= 5018451), 'RBC_C'] = 2\n",
        "\n",
        "#HGB categories: If (Gender = 1) <14, >= 14& <17.5, > 17.5If (Gender = 2) <12.3, >= 12.3& <15.3, >= 15.3\n",
        "Liver.loc[(Liver['Gender'] == 1) & (Liver['HGB'] < 14), 'HGB_C'] = 0\n",
        "Liver.loc[(Liver['Gender'] == 1) & (Liver['HGB'] >= 14) & (Liver['HGB'] < 17.5), 'HGB_C'] = 1\n",
        "Liver.loc[(Liver['Gender'] == 1) & (Liver['HGB'] > 17.5), 'HGB_C'] = 2\n",
        "\n",
        "Liver.loc[(Liver['Gender'] == 2) & (Liver['HGB'] < 12.3), 'HGB_C'] = 0\n",
        "Liver.loc[(Liver['Gender'] == 2) & (Liver['HGB'] >= 12.3) & (Liver['HGB'] < 15.3), 'HGB_C'] = 1\n",
        "Liver.loc[(Liver['Gender'] == 2) & (Liver['HGB'] > 15.3), 'HGB_C'] = 2\n",
        "\n",
        "#print(pd.crosstab(Liver['RBC'], Liver['RBC_C'], dropna = False))\n",
        "\n",
        "#Platelet categories: [93013; 100000[, [100000; 255000[,[255000; 226465[\n",
        "Liver.loc[(Liver['Plat'] >= 93013) & (Liver['Plat'] < 100000), 'PLT_C'] = 0\n",
        "Liver.loc[(Liver['Plat'] >= 100000) & (Liver['Plat'] < 255000), 'PLT_C'] = 1\n",
        "Liver.loc[(Liver['Plat'] >= 255000) & (Liver['Plat'] <= 226465), 'PLT_C'] = 2\n",
        "\n",
        "#print(pd.crosstab(Liver['Plat'], Liver['PLT_C'], dropna = False))\n",
        "\n",
        "#AST 1, ALT 1, ALT 4, ALT 12, ALT 24, ALT 36, ALT 48, ALT after 24 w categories: [0; 20[, [20; 40], ]40; 128]\n",
        "Liver.loc[(Liver['AST 1'] >= 0) & (Liver['AST 1'] < 20), 'AST_1_C'] = 0\n",
        "Liver.loc[(Liver['AST 1'] >= 20) & (Liver['AST 1'] < 40), 'AST_1_C'] = 1\n",
        "Liver.loc[(Liver['AST 1'] >= 40) & (Liver['AST 1'] <= 128), 'AST_1_C'] = 2\n",
        "\n",
        "Liver.loc[(Liver['ALT 1'] >= 0) & (Liver['ALT 1'] < 20), 'ALT_1_C'] = 0\n",
        "Liver.loc[(Liver['ALT 1'] >= 20) & (Liver['ALT 1'] < 40), 'ALT_1_C'] = 1\n",
        "Liver.loc[(Liver['ALT 1'] >= 40) & (Liver['ALT 1'] <= 128), 'ALT_1_C'] = 2\n",
        "\n",
        "Liver.loc[(Liver['ALT4'] >= 0) & (Liver['ALT4'] < 20), 'ALT_4_C'] = 0\n",
        "Liver.loc[(Liver['ALT4'] >= 20) & (Liver['ALT4'] < 40), 'ALT_4_C'] = 1\n",
        "Liver.loc[(Liver['ALT4'] >= 40) & (Liver['ALT4'] <= 128), 'ALT_4_C'] = 2\n",
        "\n",
        "Liver.loc[(Liver['ALT 12'] >= 0) & (Liver['ALT 12'] < 20), 'ALT_12_C'] = 0\n",
        "Liver.loc[(Liver['ALT 12'] >= 20) & (Liver['ALT 12'] < 40), 'ALT_12_C'] = 1\n",
        "Liver.loc[(Liver['ALT 12'] >= 40) & (Liver['ALT 12'] <= 128), 'ALT_12_C'] = 2\n",
        "\n",
        "Liver.loc[(Liver['ALT 24'] >= 0) & (Liver['ALT 24'] < 20), 'ALT_24_C'] = 0\n",
        "Liver.loc[(Liver['ALT 24'] >= 20) & (Liver['ALT 24'] < 40), 'ALT_24_C'] = 1\n",
        "Liver.loc[(Liver['ALT 24'] >= 40) & (Liver['ALT 24'] <= 128), 'ALT_24_C'] = 2\n",
        "\n",
        "Liver.loc[(Liver['ALT 36'] >= 0) & (Liver['ALT 36'] < 20), 'ALT_36_C'] = 0\n",
        "Liver.loc[(Liver['ALT 36'] >= 20) & (Liver['ALT 36'] < 40), 'ALT_36_C'] = 1\n",
        "Liver.loc[(Liver['ALT 36'] >= 40) & (Liver['ALT 36'] <= 128), 'ALT_36_C'] = 2\n",
        "\n",
        "Liver.loc[(Liver['ALT 48'] >= 0) & (Liver['ALT 48'] < 20), 'ALT_48_C'] = 0\n",
        "Liver.loc[(Liver['ALT 48'] >= 20) & (Liver['ALT 48'] < 40), 'ALT_48_C'] = 1\n",
        "Liver.loc[(Liver['ALT 48'] >= 40) & (Liver['ALT 48'] <= 128), 'ALT_48_C'] = 2\n",
        "\n",
        "Liver.loc[(Liver['ALT after 24 w'] >= 0) & (Liver['ALT after 24 w'] < 20), 'ALT after 24 w_C'] = 0\n",
        "Liver.loc[(Liver['ALT after 24 w'] >= 20) & (Liver['ALT after 24 w'] < 40), 'ALT after 24 w_C'] = 1\n",
        "Liver.loc[(Liver['ALT after 24 w'] >= 40) & (Liver['ALT after 24 w'] <= 128), 'ALT after 24 w_C'] = 2\n",
        "\n",
        "#print(pd.crosstab(Liver['AST 1'], Liver['AST_1_C'], dropna = False))\n",
        "\n",
        "#RNA Categories <=5, > 5\n",
        "Liver.loc[Liver['RNA Base'] <= 5, 'RNA Base_C'] = 0\n",
        "Liver.loc[Liver['RNA Base'] > 5, 'RNA Base_C'] = 1\n",
        "\n",
        "Liver.loc[Liver['RNA 4'] <= 5, 'RNA 4_C'] = 0\n",
        "Liver.loc[Liver['RNA 4'] > 5, 'RNA 4_C'] = 1\n",
        "\n",
        "Liver.loc[Liver['RNA 12'] <= 5, 'RNA 12_C'] = 0\n",
        "Liver.loc[Liver['RNA 12'] > 5, 'RNA 12_C'] = 1\n",
        "\n",
        "Liver.loc[Liver['RNA EOT'] <= 5, 'RNA EOT_C'] = 0\n",
        "Liver.loc[Liver['RNA EOT'] > 5, 'RNA EOT_C'] = 1\n",
        "\n",
        "Liver.loc[Liver['RNA EF'] <= 5, 'RNA EF_C'] = 0\n",
        "Liver.loc[Liver['RNA EF'] > 5, 'RNA EF_C'] = 1\n",
        "\n",
        "\n",
        "#Categegorizing the target feature as 0 (cirrhosis absent) and 1 (cirrhosis present)\n",
        "Liver.loc[Liver['Baselinehistological staging'] ==4, 'Cirrhosis'] = 1\n",
        "Liver.loc[Liver['Baselinehistological staging'] !=4, 'Cirrhosis'] = 0\n",
        "\n",
        "print(pd.crosstab(Liver['Baselinehistological staging'], Liver['Cirrhosis'], dropna = False))\n",
        "#print(Liver['Baselinehistological staging'].value_counts())"
      ],
      "metadata": {
        "colab": {
          "base_uri": "https://localhost:8080/"
        },
        "id": "y4NeYCelwlE7",
        "outputId": "6dbb913f-346f-46f5-dfcb-de4aaceff42f"
      },
      "execution_count": 7,
      "outputs": [
        {
          "output_type": "stream",
          "name": "stdout",
          "text": [
            "Cirrhosis                     0.0  1.0\n",
            "Baselinehistological staging          \n",
            "1                             336    0\n",
            "2                             332    0\n",
            "3                             355    0\n",
            "4                               0  362\n"
          ]
        }
      ]
    },
    {
      "cell_type": "code",
      "source": [
        "#Modeling -  build ML model.\n",
        "\n",
        "#Split the data into target and feature \n",
        "\n",
        "y = Liver['Cirrhosis']\n",
        "\n",
        "X_1 = Liver[['Age_C', 'Gender', 'BMI_C', 'WBC_C', 'RBC_C', 'HGB_C', 'PLT_C', 'Fever', 'Jaundice ', 'Nausea/Vomting','Diarrhea ', 'Fatigue & generalized bone ache ', 'Headache ',   \n",
        "             'Epigastric pain ']]\n",
        "\n",
        "\n",
        "X_2 = Liver[['Age_C', 'Gender', 'BMI_C', 'WBC_C', 'RBC_C', 'HGB_C', 'PLT_C', 'Fever', 'Jaundice ', 'Nausea/Vomting','Diarrhea ', 'Fatigue & generalized bone ache ', 'Headache ',   \n",
        "             'Epigastric pain ','AST_1_C','ALT_1_C', 'ALT_4_C', 'ALT_12_C','ALT_24_C' ,'ALT_36_C', 'ALT_48_C', 'ALT after 24 w_C', 'RNA Base_C', 'RNA 4_C', 'RNA 12_C', 'RNA EOT_C', 'RNA EF_C']]\n",
        "\n",
        "\n",
        "#Train-test split#\n",
        "\n",
        "X_1_train, X_1_test, y_train, y_test = train_test_split(X_1, y, test_size=0.25, random_state=42)\n",
        "X_2_train, X_2_test, y_train, y_test = train_test_split(X_2, y, test_size=0.25, random_state=42)\n"
      ],
      "metadata": {
        "id": "6v1M2IIixGtI"
      },
      "execution_count": 8,
      "outputs": []
    },
    {
      "cell_type": "code",
      "source": [
        "#Fit the logistic regression model to the training data without the specialized lab values\n",
        "\n",
        "model_1 = LogisticRegression(random_state=0, solver='lbfgs', max_iter=1000)\n",
        "\n",
        "model_1.fit(X_1_train, y_train)\n",
        "\n",
        "#Fit the logistic regression model to the training data with the specialized lab values.  At first I got an\n",
        "#error message about the model not converging.  I googled it and found that one solution was to increase\n",
        "#the maximum number of iterations.  I did that, and now the model works.\n",
        "\n",
        "model_2 = LogisticRegression(random_state=0, solver='lbfgs', max_iter=1000)\n",
        "\n",
        "model_2.fit(X_2_train, y_train)"
      ],
      "metadata": {
        "colab": {
          "base_uri": "https://localhost:8080/"
        },
        "id": "TciDnsg7xS8i",
        "outputId": "27309f69-90d4-4427-cc77-7210c27dfe18"
      },
      "execution_count": 9,
      "outputs": [
        {
          "output_type": "execute_result",
          "data": {
            "text/plain": [
              "LogisticRegression(max_iter=1000, random_state=0)"
            ]
          },
          "metadata": {},
          "execution_count": 9
        }
      ]
    },
    {
      "cell_type": "code",
      "source": [
        "#Evaluation\n",
        "\n",
        "#Calculate 10-fold CV accuracy for the model without the specialized lab values\n",
        "\n",
        "scores_1 = cross_val_score(model_1, X_1_train, y_train, cv=10)\n",
        "\n",
        "print('The accuracy of Model 1 is', scores_1.mean())\n",
        "\n",
        "#The 10-fold CV accuracy without the extra lab values is about 0.74\n",
        "\n",
        "\n",
        "\n",
        "#Calculate the AUC for the model without the specialized lab values\n",
        "\n",
        "probs_1 = pd.DataFrame(model_1.predict_proba(X_1_train))\n",
        "fpr_1_, tpr_1_, thresholds_ = roc_curve(y_train, probs_1[1])\n",
        "print('The AUC for Model 1 is', auc(fpr_1_, tpr_1_))\n",
        "\n",
        "#The AUC for the model without the extra lab values is about 0.56\n",
        "\n",
        "\n",
        "scores_2 = cross_val_score(model_2, X_2_train, y_train, cv=10)\n",
        "\n",
        "print('The accuracy of Model 2 is', scores_2.mean())\n",
        "\n",
        "#The 10-fold CV accuracy with the extra lab values is just about the same 0.74\n",
        "\n",
        "probs_2 = pd.DataFrame(model_2.predict_proba(X_2_train))\n",
        "fpr_2_, tpr_2_, thresholds_ = roc_curve(y_train, probs_2[1])\n",
        "print('The AUC of Model 2 is', auc(fpr_2_, tpr_2_))\n",
        "\n",
        "#The AUC for the model with the extra lab values is about 0.57"
      ],
      "metadata": {
        "colab": {
          "base_uri": "https://localhost:8080/"
        },
        "id": "sGBw7DyMxb9O",
        "outputId": "9c48b808-3c00-4029-d298-3978e9cbea03"
      },
      "execution_count": 10,
      "outputs": [
        {
          "output_type": "stream",
          "name": "stdout",
          "text": [
            "The accuracy of Model 1 is 0.742783793876027\n",
            "The AUC for Model 1 is 0.5587349470749112\n",
            "The accuracy of Model 2 is 0.7418222554144884\n",
            "The AUC of Model 2 is 0.572254040426121\n"
          ]
        }
      ]
    },
    {
      "cell_type": "code",
      "source": [
        "#Because the model results are so close, let's evaluate both of them using the test set\n",
        "\n",
        "print(model_1.score(X_1_test, y_test))\n",
        "print(model_2.score(X_2_test, y_test))\n",
        "\n",
        "#The testing accuracy is the same for both"
      ],
      "metadata": {
        "colab": {
          "base_uri": "https://localhost:8080/"
        },
        "id": "K8sk2WShxqDr",
        "outputId": "ac3692ab-177f-4f24-b220-7d4bf7ec3fe4"
      },
      "execution_count": 11,
      "outputs": [
        {
          "output_type": "stream",
          "name": "stdout",
          "text": [
            "0.7262247838616714\n",
            "0.7262247838616714\n"
          ]
        }
      ]
    },
    {
      "cell_type": "code",
      "source": [
        "#Results\n",
        "#Based on the results (accuracy and AUC) from my logistic regression model, there is no evidence that adding in the new lab values would aid physicians in the diagnosis of liver cirrhosis in these patients.\n",
        "#It would be better to use save this money and use it for more affective diagnostic tests or treatments.\n",
        "\n",
        "#Reflection\n",
        "#I really didn't like doing all the data wrangling. That was tedious.\n",
        "#I thought it was interesting that adding the new lab values didn't add predictive ability to the mdoel. I thought that it would.\n",
        "#If I had more time, I would like to try using other classification models like KNN or tree-based models to see if my results might be different using one of those, especially because the accuracy of my model wasn't very good.\n",
        "\n"
      ],
      "metadata": {
        "id": "6xS-akzlx0Tj"
      },
      "execution_count": null,
      "outputs": []
    }
  ]
}